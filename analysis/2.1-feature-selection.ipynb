{
  "nbformat": 4,
  "nbformat_minor": 0,
  "metadata": {
    "colab": {
      "name": "02.1-feature-selection.ipynb.ipynb",
      "provenance": [],
      "collapsed_sections": []
    },
    "kernelspec": {
      "name": "python3",
      "display_name": "Python 3"
    },
    "language_info": {
      "name": "python"
    },
    "accelerator": "GPU",
    "widgets": {
      "application/vnd.jupyter.widget-state+json": {
        "0db3f3756dc5434b9d1d231a20398b7b": {
          "model_module": "@jupyter-widgets/controls",
          "model_name": "HBoxModel",
          "model_module_version": "1.5.0",
          "state": {
            "_view_name": "HBoxView",
            "_dom_classes": [],
            "_model_name": "HBoxModel",
            "_view_module": "@jupyter-widgets/controls",
            "_model_module_version": "1.5.0",
            "_view_count": null,
            "_view_module_version": "1.5.0",
            "box_style": "",
            "layout": "IPY_MODEL_908bcfee9ee546d7aa2015c2736f92f9",
            "_model_module": "@jupyter-widgets/controls",
            "children": [
              "IPY_MODEL_a1684759a8f84ccaa7eb8d6221769796",
              "IPY_MODEL_ac2ddbaf16d143d38d7aaec45a800658",
              "IPY_MODEL_bd08b7633504494a8971c335ded76182"
            ]
          }
        },
        "908bcfee9ee546d7aa2015c2736f92f9": {
          "model_module": "@jupyter-widgets/base",
          "model_name": "LayoutModel",
          "model_module_version": "1.2.0",
          "state": {
            "_view_name": "LayoutView",
            "grid_template_rows": null,
            "right": null,
            "justify_content": null,
            "_view_module": "@jupyter-widgets/base",
            "overflow": null,
            "_model_module_version": "1.2.0",
            "_view_count": null,
            "flex_flow": null,
            "width": null,
            "min_width": null,
            "border": null,
            "align_items": null,
            "bottom": null,
            "_model_module": "@jupyter-widgets/base",
            "top": null,
            "grid_column": null,
            "overflow_y": null,
            "overflow_x": null,
            "grid_auto_flow": null,
            "grid_area": null,
            "grid_template_columns": null,
            "flex": null,
            "_model_name": "LayoutModel",
            "justify_items": null,
            "grid_row": null,
            "max_height": null,
            "align_content": null,
            "visibility": null,
            "align_self": null,
            "height": null,
            "min_height": null,
            "padding": null,
            "grid_auto_rows": null,
            "grid_gap": null,
            "max_width": null,
            "order": null,
            "_view_module_version": "1.2.0",
            "grid_template_areas": null,
            "object_position": null,
            "object_fit": null,
            "grid_auto_columns": null,
            "margin": null,
            "display": null,
            "left": null
          }
        },
        "a1684759a8f84ccaa7eb8d6221769796": {
          "model_module": "@jupyter-widgets/controls",
          "model_name": "HTMLModel",
          "model_module_version": "1.5.0",
          "state": {
            "_view_name": "HTMLView",
            "style": "IPY_MODEL_cabd66f01ee8486483c835c62ed31341",
            "_dom_classes": [],
            "description": "",
            "_model_name": "HTMLModel",
            "placeholder": "​",
            "_view_module": "@jupyter-widgets/controls",
            "_model_module_version": "1.5.0",
            "value": "100%",
            "_view_count": null,
            "_view_module_version": "1.5.0",
            "description_tooltip": null,
            "_model_module": "@jupyter-widgets/controls",
            "layout": "IPY_MODEL_252dadc2f7ac4cedbcfdee63b885ba9b"
          }
        },
        "ac2ddbaf16d143d38d7aaec45a800658": {
          "model_module": "@jupyter-widgets/controls",
          "model_name": "FloatProgressModel",
          "model_module_version": "1.5.0",
          "state": {
            "_view_name": "ProgressView",
            "style": "IPY_MODEL_e4e67d3269c44fbda7f85b56a38df814",
            "_dom_classes": [],
            "description": "",
            "_model_name": "FloatProgressModel",
            "bar_style": "success",
            "max": 25,
            "_view_module": "@jupyter-widgets/controls",
            "_model_module_version": "1.5.0",
            "value": 25,
            "_view_count": null,
            "_view_module_version": "1.5.0",
            "orientation": "horizontal",
            "min": 0,
            "description_tooltip": null,
            "_model_module": "@jupyter-widgets/controls",
            "layout": "IPY_MODEL_dd109cda976f46e9b99e2e1192f451e4"
          }
        },
        "bd08b7633504494a8971c335ded76182": {
          "model_module": "@jupyter-widgets/controls",
          "model_name": "HTMLModel",
          "model_module_version": "1.5.0",
          "state": {
            "_view_name": "HTMLView",
            "style": "IPY_MODEL_d34da5e193a44a6d91e29e54f26334fd",
            "_dom_classes": [],
            "description": "",
            "_model_name": "HTMLModel",
            "placeholder": "​",
            "_view_module": "@jupyter-widgets/controls",
            "_model_module_version": "1.5.0",
            "value": " 25/25 [01:24&lt;00:00,  2.86s/it]",
            "_view_count": null,
            "_view_module_version": "1.5.0",
            "description_tooltip": null,
            "_model_module": "@jupyter-widgets/controls",
            "layout": "IPY_MODEL_5653e1535349480199ddb786f50af132"
          }
        },
        "cabd66f01ee8486483c835c62ed31341": {
          "model_module": "@jupyter-widgets/controls",
          "model_name": "DescriptionStyleModel",
          "model_module_version": "1.5.0",
          "state": {
            "_view_name": "StyleView",
            "_model_name": "DescriptionStyleModel",
            "description_width": "",
            "_view_module": "@jupyter-widgets/base",
            "_model_module_version": "1.5.0",
            "_view_count": null,
            "_view_module_version": "1.2.0",
            "_model_module": "@jupyter-widgets/controls"
          }
        },
        "252dadc2f7ac4cedbcfdee63b885ba9b": {
          "model_module": "@jupyter-widgets/base",
          "model_name": "LayoutModel",
          "model_module_version": "1.2.0",
          "state": {
            "_view_name": "LayoutView",
            "grid_template_rows": null,
            "right": null,
            "justify_content": null,
            "_view_module": "@jupyter-widgets/base",
            "overflow": null,
            "_model_module_version": "1.2.0",
            "_view_count": null,
            "flex_flow": null,
            "width": null,
            "min_width": null,
            "border": null,
            "align_items": null,
            "bottom": null,
            "_model_module": "@jupyter-widgets/base",
            "top": null,
            "grid_column": null,
            "overflow_y": null,
            "overflow_x": null,
            "grid_auto_flow": null,
            "grid_area": null,
            "grid_template_columns": null,
            "flex": null,
            "_model_name": "LayoutModel",
            "justify_items": null,
            "grid_row": null,
            "max_height": null,
            "align_content": null,
            "visibility": null,
            "align_self": null,
            "height": null,
            "min_height": null,
            "padding": null,
            "grid_auto_rows": null,
            "grid_gap": null,
            "max_width": null,
            "order": null,
            "_view_module_version": "1.2.0",
            "grid_template_areas": null,
            "object_position": null,
            "object_fit": null,
            "grid_auto_columns": null,
            "margin": null,
            "display": null,
            "left": null
          }
        },
        "e4e67d3269c44fbda7f85b56a38df814": {
          "model_module": "@jupyter-widgets/controls",
          "model_name": "ProgressStyleModel",
          "model_module_version": "1.5.0",
          "state": {
            "_view_name": "StyleView",
            "_model_name": "ProgressStyleModel",
            "description_width": "",
            "_view_module": "@jupyter-widgets/base",
            "_model_module_version": "1.5.0",
            "_view_count": null,
            "_view_module_version": "1.2.0",
            "bar_color": null,
            "_model_module": "@jupyter-widgets/controls"
          }
        },
        "dd109cda976f46e9b99e2e1192f451e4": {
          "model_module": "@jupyter-widgets/base",
          "model_name": "LayoutModel",
          "model_module_version": "1.2.0",
          "state": {
            "_view_name": "LayoutView",
            "grid_template_rows": null,
            "right": null,
            "justify_content": null,
            "_view_module": "@jupyter-widgets/base",
            "overflow": null,
            "_model_module_version": "1.2.0",
            "_view_count": null,
            "flex_flow": null,
            "width": null,
            "min_width": null,
            "border": null,
            "align_items": null,
            "bottom": null,
            "_model_module": "@jupyter-widgets/base",
            "top": null,
            "grid_column": null,
            "overflow_y": null,
            "overflow_x": null,
            "grid_auto_flow": null,
            "grid_area": null,
            "grid_template_columns": null,
            "flex": null,
            "_model_name": "LayoutModel",
            "justify_items": null,
            "grid_row": null,
            "max_height": null,
            "align_content": null,
            "visibility": null,
            "align_self": null,
            "height": null,
            "min_height": null,
            "padding": null,
            "grid_auto_rows": null,
            "grid_gap": null,
            "max_width": null,
            "order": null,
            "_view_module_version": "1.2.0",
            "grid_template_areas": null,
            "object_position": null,
            "object_fit": null,
            "grid_auto_columns": null,
            "margin": null,
            "display": null,
            "left": null
          }
        },
        "d34da5e193a44a6d91e29e54f26334fd": {
          "model_module": "@jupyter-widgets/controls",
          "model_name": "DescriptionStyleModel",
          "model_module_version": "1.5.0",
          "state": {
            "_view_name": "StyleView",
            "_model_name": "DescriptionStyleModel",
            "description_width": "",
            "_view_module": "@jupyter-widgets/base",
            "_model_module_version": "1.5.0",
            "_view_count": null,
            "_view_module_version": "1.2.0",
            "_model_module": "@jupyter-widgets/controls"
          }
        },
        "5653e1535349480199ddb786f50af132": {
          "model_module": "@jupyter-widgets/base",
          "model_name": "LayoutModel",
          "model_module_version": "1.2.0",
          "state": {
            "_view_name": "LayoutView",
            "grid_template_rows": null,
            "right": null,
            "justify_content": null,
            "_view_module": "@jupyter-widgets/base",
            "overflow": null,
            "_model_module_version": "1.2.0",
            "_view_count": null,
            "flex_flow": null,
            "width": null,
            "min_width": null,
            "border": null,
            "align_items": null,
            "bottom": null,
            "_model_module": "@jupyter-widgets/base",
            "top": null,
            "grid_column": null,
            "overflow_y": null,
            "overflow_x": null,
            "grid_auto_flow": null,
            "grid_area": null,
            "grid_template_columns": null,
            "flex": null,
            "_model_name": "LayoutModel",
            "justify_items": null,
            "grid_row": null,
            "max_height": null,
            "align_content": null,
            "visibility": null,
            "align_self": null,
            "height": null,
            "min_height": null,
            "padding": null,
            "grid_auto_rows": null,
            "grid_gap": null,
            "max_width": null,
            "order": null,
            "_view_module_version": "1.2.0",
            "grid_template_areas": null,
            "object_position": null,
            "object_fit": null,
            "grid_auto_columns": null,
            "margin": null,
            "display": null,
            "left": null
          }
        },
        "07141a6e43924442a7eb09cf7837672c": {
          "model_module": "@jupyter-widgets/controls",
          "model_name": "HBoxModel",
          "model_module_version": "1.5.0",
          "state": {
            "_view_name": "HBoxView",
            "_dom_classes": [],
            "_model_name": "HBoxModel",
            "_view_module": "@jupyter-widgets/controls",
            "_model_module_version": "1.5.0",
            "_view_count": null,
            "_view_module_version": "1.5.0",
            "box_style": "",
            "layout": "IPY_MODEL_e69c597e709a4870bba6812ca06c87ca",
            "_model_module": "@jupyter-widgets/controls",
            "children": [
              "IPY_MODEL_9070ca5f0853442bb8cd9de4d1135eec",
              "IPY_MODEL_d5f71bdbe35d40b8ba6db9fa452803f3",
              "IPY_MODEL_51f4ba1b3ed44b61b7db55a2856aee10"
            ]
          }
        },
        "e69c597e709a4870bba6812ca06c87ca": {
          "model_module": "@jupyter-widgets/base",
          "model_name": "LayoutModel",
          "model_module_version": "1.2.0",
          "state": {
            "_view_name": "LayoutView",
            "grid_template_rows": null,
            "right": null,
            "justify_content": null,
            "_view_module": "@jupyter-widgets/base",
            "overflow": null,
            "_model_module_version": "1.2.0",
            "_view_count": null,
            "flex_flow": null,
            "width": null,
            "min_width": null,
            "border": null,
            "align_items": null,
            "bottom": null,
            "_model_module": "@jupyter-widgets/base",
            "top": null,
            "grid_column": null,
            "overflow_y": null,
            "overflow_x": null,
            "grid_auto_flow": null,
            "grid_area": null,
            "grid_template_columns": null,
            "flex": null,
            "_model_name": "LayoutModel",
            "justify_items": null,
            "grid_row": null,
            "max_height": null,
            "align_content": null,
            "visibility": null,
            "align_self": null,
            "height": null,
            "min_height": null,
            "padding": null,
            "grid_auto_rows": null,
            "grid_gap": null,
            "max_width": null,
            "order": null,
            "_view_module_version": "1.2.0",
            "grid_template_areas": null,
            "object_position": null,
            "object_fit": null,
            "grid_auto_columns": null,
            "margin": null,
            "display": null,
            "left": null
          }
        },
        "9070ca5f0853442bb8cd9de4d1135eec": {
          "model_module": "@jupyter-widgets/controls",
          "model_name": "HTMLModel",
          "model_module_version": "1.5.0",
          "state": {
            "_view_name": "HTMLView",
            "style": "IPY_MODEL_dd232700c9514d1b952abcd63758a78a",
            "_dom_classes": [],
            "description": "",
            "_model_name": "HTMLModel",
            "placeholder": "​",
            "_view_module": "@jupyter-widgets/controls",
            "_model_module_version": "1.5.0",
            "value": "100%",
            "_view_count": null,
            "_view_module_version": "1.5.0",
            "description_tooltip": null,
            "_model_module": "@jupyter-widgets/controls",
            "layout": "IPY_MODEL_96aa7c3fbabc45b59747d004df1c061b"
          }
        },
        "d5f71bdbe35d40b8ba6db9fa452803f3": {
          "model_module": "@jupyter-widgets/controls",
          "model_name": "FloatProgressModel",
          "model_module_version": "1.5.0",
          "state": {
            "_view_name": "ProgressView",
            "style": "IPY_MODEL_14d3d643bf6f4050a5ae017bdc6c5ada",
            "_dom_classes": [],
            "description": "",
            "_model_name": "FloatProgressModel",
            "bar_style": "success",
            "max": 42,
            "_view_module": "@jupyter-widgets/controls",
            "_model_module_version": "1.5.0",
            "value": 42,
            "_view_count": null,
            "_view_module_version": "1.5.0",
            "orientation": "horizontal",
            "min": 0,
            "description_tooltip": null,
            "_model_module": "@jupyter-widgets/controls",
            "layout": "IPY_MODEL_2bd81b85eff94bb989183692d8479cf9"
          }
        },
        "51f4ba1b3ed44b61b7db55a2856aee10": {
          "model_module": "@jupyter-widgets/controls",
          "model_name": "HTMLModel",
          "model_module_version": "1.5.0",
          "state": {
            "_view_name": "HTMLView",
            "style": "IPY_MODEL_33b47b7a8a3042d58775bad73550b738",
            "_dom_classes": [],
            "description": "",
            "_model_name": "HTMLModel",
            "placeholder": "​",
            "_view_module": "@jupyter-widgets/controls",
            "_model_module_version": "1.5.0",
            "value": " 42/42 [00:07&lt;00:00,  5.38it/s]",
            "_view_count": null,
            "_view_module_version": "1.5.0",
            "description_tooltip": null,
            "_model_module": "@jupyter-widgets/controls",
            "layout": "IPY_MODEL_d59c9eda1646479b81cb511c7c3c3dba"
          }
        },
        "dd232700c9514d1b952abcd63758a78a": {
          "model_module": "@jupyter-widgets/controls",
          "model_name": "DescriptionStyleModel",
          "model_module_version": "1.5.0",
          "state": {
            "_view_name": "StyleView",
            "_model_name": "DescriptionStyleModel",
            "description_width": "",
            "_view_module": "@jupyter-widgets/base",
            "_model_module_version": "1.5.0",
            "_view_count": null,
            "_view_module_version": "1.2.0",
            "_model_module": "@jupyter-widgets/controls"
          }
        },
        "96aa7c3fbabc45b59747d004df1c061b": {
          "model_module": "@jupyter-widgets/base",
          "model_name": "LayoutModel",
          "model_module_version": "1.2.0",
          "state": {
            "_view_name": "LayoutView",
            "grid_template_rows": null,
            "right": null,
            "justify_content": null,
            "_view_module": "@jupyter-widgets/base",
            "overflow": null,
            "_model_module_version": "1.2.0",
            "_view_count": null,
            "flex_flow": null,
            "width": null,
            "min_width": null,
            "border": null,
            "align_items": null,
            "bottom": null,
            "_model_module": "@jupyter-widgets/base",
            "top": null,
            "grid_column": null,
            "overflow_y": null,
            "overflow_x": null,
            "grid_auto_flow": null,
            "grid_area": null,
            "grid_template_columns": null,
            "flex": null,
            "_model_name": "LayoutModel",
            "justify_items": null,
            "grid_row": null,
            "max_height": null,
            "align_content": null,
            "visibility": null,
            "align_self": null,
            "height": null,
            "min_height": null,
            "padding": null,
            "grid_auto_rows": null,
            "grid_gap": null,
            "max_width": null,
            "order": null,
            "_view_module_version": "1.2.0",
            "grid_template_areas": null,
            "object_position": null,
            "object_fit": null,
            "grid_auto_columns": null,
            "margin": null,
            "display": null,
            "left": null
          }
        },
        "14d3d643bf6f4050a5ae017bdc6c5ada": {
          "model_module": "@jupyter-widgets/controls",
          "model_name": "ProgressStyleModel",
          "model_module_version": "1.5.0",
          "state": {
            "_view_name": "StyleView",
            "_model_name": "ProgressStyleModel",
            "description_width": "",
            "_view_module": "@jupyter-widgets/base",
            "_model_module_version": "1.5.0",
            "_view_count": null,
            "_view_module_version": "1.2.0",
            "bar_color": null,
            "_model_module": "@jupyter-widgets/controls"
          }
        },
        "2bd81b85eff94bb989183692d8479cf9": {
          "model_module": "@jupyter-widgets/base",
          "model_name": "LayoutModel",
          "model_module_version": "1.2.0",
          "state": {
            "_view_name": "LayoutView",
            "grid_template_rows": null,
            "right": null,
            "justify_content": null,
            "_view_module": "@jupyter-widgets/base",
            "overflow": null,
            "_model_module_version": "1.2.0",
            "_view_count": null,
            "flex_flow": null,
            "width": null,
            "min_width": null,
            "border": null,
            "align_items": null,
            "bottom": null,
            "_model_module": "@jupyter-widgets/base",
            "top": null,
            "grid_column": null,
            "overflow_y": null,
            "overflow_x": null,
            "grid_auto_flow": null,
            "grid_area": null,
            "grid_template_columns": null,
            "flex": null,
            "_model_name": "LayoutModel",
            "justify_items": null,
            "grid_row": null,
            "max_height": null,
            "align_content": null,
            "visibility": null,
            "align_self": null,
            "height": null,
            "min_height": null,
            "padding": null,
            "grid_auto_rows": null,
            "grid_gap": null,
            "max_width": null,
            "order": null,
            "_view_module_version": "1.2.0",
            "grid_template_areas": null,
            "object_position": null,
            "object_fit": null,
            "grid_auto_columns": null,
            "margin": null,
            "display": null,
            "left": null
          }
        },
        "33b47b7a8a3042d58775bad73550b738": {
          "model_module": "@jupyter-widgets/controls",
          "model_name": "DescriptionStyleModel",
          "model_module_version": "1.5.0",
          "state": {
            "_view_name": "StyleView",
            "_model_name": "DescriptionStyleModel",
            "description_width": "",
            "_view_module": "@jupyter-widgets/base",
            "_model_module_version": "1.5.0",
            "_view_count": null,
            "_view_module_version": "1.2.0",
            "_model_module": "@jupyter-widgets/controls"
          }
        },
        "d59c9eda1646479b81cb511c7c3c3dba": {
          "model_module": "@jupyter-widgets/base",
          "model_name": "LayoutModel",
          "model_module_version": "1.2.0",
          "state": {
            "_view_name": "LayoutView",
            "grid_template_rows": null,
            "right": null,
            "justify_content": null,
            "_view_module": "@jupyter-widgets/base",
            "overflow": null,
            "_model_module_version": "1.2.0",
            "_view_count": null,
            "flex_flow": null,
            "width": null,
            "min_width": null,
            "border": null,
            "align_items": null,
            "bottom": null,
            "_model_module": "@jupyter-widgets/base",
            "top": null,
            "grid_column": null,
            "overflow_y": null,
            "overflow_x": null,
            "grid_auto_flow": null,
            "grid_area": null,
            "grid_template_columns": null,
            "flex": null,
            "_model_name": "LayoutModel",
            "justify_items": null,
            "grid_row": null,
            "max_height": null,
            "align_content": null,
            "visibility": null,
            "align_self": null,
            "height": null,
            "min_height": null,
            "padding": null,
            "grid_auto_rows": null,
            "grid_gap": null,
            "max_width": null,
            "order": null,
            "_view_module_version": "1.2.0",
            "grid_template_areas": null,
            "object_position": null,
            "object_fit": null,
            "grid_auto_columns": null,
            "margin": null,
            "display": null,
            "left": null
          }
        }
      }
    }
  },
  "cells": [
    {
      "cell_type": "markdown",
      "metadata": {
        "id": "H6a0HwAGi1gP"
      },
      "source": [
        "# Feature Selection"
      ]
    },
    {
      "cell_type": "code",
      "execution_count": null,
      "metadata": {
        "id": "2Vf7CKzAlJty"
      },
      "outputs": [],
      "source": [
        "%%bash\n",
        "# pip uninstall lightgbm -y\n",
        "# pip install lightgbm --install-option=--gpu\n",
        "pip install catboost Boruta \n"
      ]
    },
    {
      "cell_type": "code",
      "source": [
        "%%bash\n",
        "# data\n",
        "cp /content/drive/MyDrive/Colab\\ Notebooks/projects/bulldozers/data/*.feather /content\n",
        "# pre-trained models\n",
        "cp /content/drive/MyDrive/Colab\\ Notebooks/projects/bulldozers/models/ordered.joblib /content\n",
        "# helper files\n",
        "cp /content/drive/MyDrive/pyism/{utils,hiwamari,mrmr}.py /content"
      ],
      "metadata": {
        "id": "Sq6JnNwG67VG"
      },
      "execution_count": 2,
      "outputs": []
    },
    {
      "cell_type": "code",
      "source": [
        "import catboost as cat\n",
        "import lightgbm as lgb\n",
        "import numpy as np\n",
        "import pandas as pd\n",
        "import joblib as jb\n",
        "from sklearn.tree import DecisionTreeRegressor, ExtraTreeRegressor\n",
        "import utils\n"
      ],
      "metadata": {
        "id": "DafkHxcDvBCc"
      },
      "execution_count": 7,
      "outputs": []
    },
    {
      "cell_type": "code",
      "execution_count": 4,
      "metadata": {
        "id": "A7wB1Yg7OXZI"
      },
      "outputs": [],
      "source": [
        "xtrn = pd.read_feather(\"xtrn.feather\")\n",
        "xval = pd.read_feather(\"xval.feather\")\n",
        "ytrn = np.log1p(pd.read_feather(\"ytrn.feather\").iloc[:,0])\n",
        "yval = np.log1p(pd.read_feather(\"yval.feather\").iloc[:,0])"
      ]
    },
    {
      "cell_type": "code",
      "source": [
        "# base_ordr = cat.CatBoostRegressor().load_model('base-ordered.bin', format='cbm')\n",
        "base_ordr = jb.load('ordered.joblib') \n",
        "base_ordr"
      ],
      "metadata": {
        "id": "0_wlBwTF1tIj",
        "colab": {
          "base_uri": "https://localhost:8080/"
        },
        "outputId": "5741172b-fe62-4dcc-aae9-46996d66a703"
      },
      "execution_count": 10,
      "outputs": [
        {
          "output_type": "execute_result",
          "data": {
            "text/plain": [
              "<catboost.core.CatBoostRegressor at 0x7fd5d98492d0>"
            ]
          },
          "metadata": {},
          "execution_count": 10
        }
      ]
    },
    {
      "cell_type": "code",
      "execution_count": 11,
      "metadata": {
        "id": "4Jys5lX6ZvBP"
      },
      "outputs": [],
      "source": [
        "scores = dict()\n",
        "def rmse(y, yh):\n",
        "    return np.sqrt(np.mean((y - yh)**2))\n",
        " \n",
        "def evaluate(model, name, x=xval, y=yval):\n",
        "    yh = model.predict(x.values)\n",
        "    s = rmse(y.values, yh)\n",
        "    scores[name] = s\n",
        "    return s"
      ]
    },
    {
      "cell_type": "code",
      "execution_count": 12,
      "metadata": {
        "id": "G6Mh-_bXsVmK"
      },
      "outputs": [],
      "source": [
        "params = dict(\n",
        "    loss_function='RMSE', eval_metric='RMSE', \n",
        "    n_estimators=3000, learning_rate=.09125,\n",
        "    sampling_frequency='PerTree', max_depth=10,\n",
        "    early_stopping_rounds=500, l2_leaf_reg=4.,\n",
        "    grow_policy='SymmetricTree', task_type='GPU',\n",
        "    boosting_type='Ordered',\n",
        "    bootstrap_type='Bayesian',  bagging_temperature=1,\n",
        ")"
      ]
    },
    {
      "cell_type": "markdown",
      "metadata": {
        "id": "B7Wsve-Ci-F-"
      },
      "source": [
        "## Feature Importance"
      ]
    },
    {
      "cell_type": "code",
      "execution_count": 13,
      "metadata": {
        "id": "pUi7UQdAINUG",
        "colab": {
          "base_uri": "https://localhost:8080/",
          "height": 1000
        },
        "outputId": "da35417c-3c8b-48b3-a265-d623401482e6"
      },
      "outputs": [
        {
          "output_type": "execute_result",
          "data": {
            "text/html": [
              "\n",
              "  <div id=\"df-79dbe505-1d8e-4914-96cc-59afbd3baebe\">\n",
              "    <div class=\"colab-df-container\">\n",
              "      <div>\n",
              "<style scoped>\n",
              "    .dataframe tbody tr th:only-of-type {\n",
              "        vertical-align: middle;\n",
              "    }\n",
              "\n",
              "    .dataframe tbody tr th {\n",
              "        vertical-align: top;\n",
              "    }\n",
              "\n",
              "    .dataframe thead th {\n",
              "        text-align: right;\n",
              "    }\n",
              "</style>\n",
              "<table border=\"1\" class=\"dataframe\">\n",
              "  <thead>\n",
              "    <tr style=\"text-align: right;\">\n",
              "      <th></th>\n",
              "      <th>importance</th>\n",
              "      <th>rank</th>\n",
              "      <th>norm_cummulative</th>\n",
              "    </tr>\n",
              "    <tr>\n",
              "      <th>features</th>\n",
              "      <th></th>\n",
              "      <th></th>\n",
              "      <th></th>\n",
              "    </tr>\n",
              "  </thead>\n",
              "  <tbody>\n",
              "    <tr>\n",
              "      <th>YearMade</th>\n",
              "      <td>26.199362</td>\n",
              "      <td>1</td>\n",
              "      <td>0.261994</td>\n",
              "    </tr>\n",
              "    <tr>\n",
              "      <th>fiBaseModel</th>\n",
              "      <td>16.983571</td>\n",
              "      <td>2</td>\n",
              "      <td>0.431829</td>\n",
              "    </tr>\n",
              "    <tr>\n",
              "      <th>sale_year</th>\n",
              "      <td>14.265356</td>\n",
              "      <td>3</td>\n",
              "      <td>0.574483</td>\n",
              "    </tr>\n",
              "    <tr>\n",
              "      <th>fiProductClassDesc</th>\n",
              "      <td>12.617978</td>\n",
              "      <td>4</td>\n",
              "      <td>0.700663</td>\n",
              "    </tr>\n",
              "    <tr>\n",
              "      <th>fiSecondaryDesc</th>\n",
              "      <td>8.168089</td>\n",
              "      <td>5</td>\n",
              "      <td>0.782344</td>\n",
              "    </tr>\n",
              "    <tr>\n",
              "      <th>ProductSize</th>\n",
              "      <td>3.601250</td>\n",
              "      <td>6</td>\n",
              "      <td>0.818356</td>\n",
              "    </tr>\n",
              "    <tr>\n",
              "      <th>ModelID</th>\n",
              "      <td>2.994664</td>\n",
              "      <td>7</td>\n",
              "      <td>0.848303</td>\n",
              "    </tr>\n",
              "    <tr>\n",
              "      <th>Enclosure_EROPS w AC</th>\n",
              "      <td>1.953379</td>\n",
              "      <td>8</td>\n",
              "      <td>0.867837</td>\n",
              "    </tr>\n",
              "    <tr>\n",
              "      <th>Drive_System_nan</th>\n",
              "      <td>1.367562</td>\n",
              "      <td>9</td>\n",
              "      <td>0.881512</td>\n",
              "    </tr>\n",
              "    <tr>\n",
              "      <th>Enclosure_OROPS</th>\n",
              "      <td>0.973166</td>\n",
              "      <td>10</td>\n",
              "      <td>0.891244</td>\n",
              "    </tr>\n",
              "    <tr>\n",
              "      <th>fiModelDescriptor</th>\n",
              "      <td>0.772579</td>\n",
              "      <td>11</td>\n",
              "      <td>0.898970</td>\n",
              "    </tr>\n",
              "    <tr>\n",
              "      <th>state</th>\n",
              "      <td>0.719376</td>\n",
              "      <td>12</td>\n",
              "      <td>0.906163</td>\n",
              "    </tr>\n",
              "    <tr>\n",
              "      <th>Tire_Size</th>\n",
              "      <td>0.675502</td>\n",
              "      <td>13</td>\n",
              "      <td>0.912918</td>\n",
              "    </tr>\n",
              "    <tr>\n",
              "      <th>fiModelSeries</th>\n",
              "      <td>0.661881</td>\n",
              "      <td>14</td>\n",
              "      <td>0.919537</td>\n",
              "    </tr>\n",
              "    <tr>\n",
              "      <th>YearMade_outlier</th>\n",
              "      <td>0.536009</td>\n",
              "      <td>15</td>\n",
              "      <td>0.924897</td>\n",
              "    </tr>\n",
              "    <tr>\n",
              "      <th>sale_dayofyear</th>\n",
              "      <td>0.375368</td>\n",
              "      <td>16</td>\n",
              "      <td>0.928651</td>\n",
              "    </tr>\n",
              "    <tr>\n",
              "      <th>Drive_System_Four Wheel Drive</th>\n",
              "      <td>0.374019</td>\n",
              "      <td>17</td>\n",
              "      <td>0.932391</td>\n",
              "    </tr>\n",
              "    <tr>\n",
              "      <th>Ripper_nan</th>\n",
              "      <td>0.327816</td>\n",
              "      <td>18</td>\n",
              "      <td>0.935669</td>\n",
              "    </tr>\n",
              "    <tr>\n",
              "      <th>Ripper_None or Unspecified</th>\n",
              "      <td>0.297542</td>\n",
              "      <td>19</td>\n",
              "      <td>0.938645</td>\n",
              "    </tr>\n",
              "    <tr>\n",
              "      <th>auctioneerID_freq</th>\n",
              "      <td>0.288367</td>\n",
              "      <td>20</td>\n",
              "      <td>0.941528</td>\n",
              "    </tr>\n",
              "    <tr>\n",
              "      <th>ProductGroupDesc_Wheel Loader</th>\n",
              "      <td>0.276581</td>\n",
              "      <td>21</td>\n",
              "      <td>0.944294</td>\n",
              "    </tr>\n",
              "    <tr>\n",
              "      <th>Hydraulics</th>\n",
              "      <td>0.272818</td>\n",
              "      <td>22</td>\n",
              "      <td>0.947022</td>\n",
              "    </tr>\n",
              "    <tr>\n",
              "      <th>Coupler_nan</th>\n",
              "      <td>0.257374</td>\n",
              "      <td>23</td>\n",
              "      <td>0.949596</td>\n",
              "    </tr>\n",
              "    <tr>\n",
              "      <th>MachineID</th>\n",
              "      <td>0.243741</td>\n",
              "      <td>24</td>\n",
              "      <td>0.952034</td>\n",
              "    </tr>\n",
              "    <tr>\n",
              "      <th>sale_month</th>\n",
              "      <td>0.235495</td>\n",
              "      <td>25</td>\n",
              "      <td>0.954388</td>\n",
              "    </tr>\n",
              "    <tr>\n",
              "      <th>MachineHoursCurrentMeter</th>\n",
              "      <td>0.233888</td>\n",
              "      <td>26</td>\n",
              "      <td>0.956727</td>\n",
              "    </tr>\n",
              "    <tr>\n",
              "      <th>Scarifier_nan</th>\n",
              "      <td>0.230755</td>\n",
              "      <td>27</td>\n",
              "      <td>0.959035</td>\n",
              "    </tr>\n",
              "    <tr>\n",
              "      <th>auctioneerID</th>\n",
              "      <td>0.183560</td>\n",
              "      <td>28</td>\n",
              "      <td>0.960870</td>\n",
              "    </tr>\n",
              "    <tr>\n",
              "      <th>Drive_System_Two Wheel Drive</th>\n",
              "      <td>0.181686</td>\n",
              "      <td>29</td>\n",
              "      <td>0.962687</td>\n",
              "    </tr>\n",
              "    <tr>\n",
              "      <th>Pushblock_nan</th>\n",
              "      <td>0.165511</td>\n",
              "      <td>30</td>\n",
              "      <td>0.964342</td>\n",
              "    </tr>\n",
              "    <tr>\n",
              "      <th>sale_weekofyear</th>\n",
              "      <td>0.159448</td>\n",
              "      <td>31</td>\n",
              "      <td>0.965937</td>\n",
              "    </tr>\n",
              "    <tr>\n",
              "      <th>UsageBand</th>\n",
              "      <td>0.159019</td>\n",
              "      <td>32</td>\n",
              "      <td>0.967527</td>\n",
              "    </tr>\n",
              "    <tr>\n",
              "      <th>Blade_Type</th>\n",
              "      <td>0.150640</td>\n",
              "      <td>33</td>\n",
              "      <td>0.969034</td>\n",
              "    </tr>\n",
              "    <tr>\n",
              "      <th>Tip_Control_nan</th>\n",
              "      <td>0.142296</td>\n",
              "      <td>34</td>\n",
              "      <td>0.970456</td>\n",
              "    </tr>\n",
              "    <tr>\n",
              "      <th>Forks_nan</th>\n",
              "      <td>0.141929</td>\n",
              "      <td>35</td>\n",
              "      <td>0.971876</td>\n",
              "    </tr>\n",
              "    <tr>\n",
              "      <th>datasource_freq</th>\n",
              "      <td>0.139689</td>\n",
              "      <td>36</td>\n",
              "      <td>0.973273</td>\n",
              "    </tr>\n",
              "    <tr>\n",
              "      <th>ProductGroupDesc_Track Excavators</th>\n",
              "      <td>0.134924</td>\n",
              "      <td>37</td>\n",
              "      <td>0.974622</td>\n",
              "    </tr>\n",
              "    <tr>\n",
              "      <th>Enclosure_EROPS</th>\n",
              "      <td>0.133406</td>\n",
              "      <td>38</td>\n",
              "      <td>0.975956</td>\n",
              "    </tr>\n",
              "    <tr>\n",
              "      <th>Track_Type_nan</th>\n",
              "      <td>0.127694</td>\n",
              "      <td>39</td>\n",
              "      <td>0.977233</td>\n",
              "    </tr>\n",
              "    <tr>\n",
              "      <th>MachineID_freq</th>\n",
              "      <td>0.117862</td>\n",
              "      <td>40</td>\n",
              "      <td>0.978412</td>\n",
              "    </tr>\n",
              "    <tr>\n",
              "      <th>sale_dayofweek</th>\n",
              "      <td>0.105827</td>\n",
              "      <td>41</td>\n",
              "      <td>0.979470</td>\n",
              "    </tr>\n",
              "  </tbody>\n",
              "</table>\n",
              "</div>\n",
              "      <button class=\"colab-df-convert\" onclick=\"convertToInteractive('df-79dbe505-1d8e-4914-96cc-59afbd3baebe')\"\n",
              "              title=\"Convert this dataframe to an interactive table.\"\n",
              "              style=\"display:none;\">\n",
              "        \n",
              "  <svg xmlns=\"http://www.w3.org/2000/svg\" height=\"24px\"viewBox=\"0 0 24 24\"\n",
              "       width=\"24px\">\n",
              "    <path d=\"M0 0h24v24H0V0z\" fill=\"none\"/>\n",
              "    <path d=\"M18.56 5.44l.94 2.06.94-2.06 2.06-.94-2.06-.94-.94-2.06-.94 2.06-2.06.94zm-11 1L8.5 8.5l.94-2.06 2.06-.94-2.06-.94L8.5 2.5l-.94 2.06-2.06.94zm10 10l.94 2.06.94-2.06 2.06-.94-2.06-.94-.94-2.06-.94 2.06-2.06.94z\"/><path d=\"M17.41 7.96l-1.37-1.37c-.4-.4-.92-.59-1.43-.59-.52 0-1.04.2-1.43.59L10.3 9.45l-7.72 7.72c-.78.78-.78 2.05 0 2.83L4 21.41c.39.39.9.59 1.41.59.51 0 1.02-.2 1.41-.59l7.78-7.78 2.81-2.81c.8-.78.8-2.07 0-2.86zM5.41 20L4 18.59l7.72-7.72 1.47 1.35L5.41 20z\"/>\n",
              "  </svg>\n",
              "      </button>\n",
              "      \n",
              "  <style>\n",
              "    .colab-df-container {\n",
              "      display:flex;\n",
              "      flex-wrap:wrap;\n",
              "      gap: 12px;\n",
              "    }\n",
              "\n",
              "    .colab-df-convert {\n",
              "      background-color: #E8F0FE;\n",
              "      border: none;\n",
              "      border-radius: 50%;\n",
              "      cursor: pointer;\n",
              "      display: none;\n",
              "      fill: #1967D2;\n",
              "      height: 32px;\n",
              "      padding: 0 0 0 0;\n",
              "      width: 32px;\n",
              "    }\n",
              "\n",
              "    .colab-df-convert:hover {\n",
              "      background-color: #E2EBFA;\n",
              "      box-shadow: 0px 1px 2px rgba(60, 64, 67, 0.3), 0px 1px 3px 1px rgba(60, 64, 67, 0.15);\n",
              "      fill: #174EA6;\n",
              "    }\n",
              "\n",
              "    [theme=dark] .colab-df-convert {\n",
              "      background-color: #3B4455;\n",
              "      fill: #D2E3FC;\n",
              "    }\n",
              "\n",
              "    [theme=dark] .colab-df-convert:hover {\n",
              "      background-color: #434B5C;\n",
              "      box-shadow: 0px 1px 3px 1px rgba(0, 0, 0, 0.15);\n",
              "      filter: drop-shadow(0px 1px 2px rgba(0, 0, 0, 0.3));\n",
              "      fill: #FFFFFF;\n",
              "    }\n",
              "  </style>\n",
              "\n",
              "      <script>\n",
              "        const buttonEl =\n",
              "          document.querySelector('#df-79dbe505-1d8e-4914-96cc-59afbd3baebe button.colab-df-convert');\n",
              "        buttonEl.style.display =\n",
              "          google.colab.kernel.accessAllowed ? 'block' : 'none';\n",
              "\n",
              "        async function convertToInteractive(key) {\n",
              "          const element = document.querySelector('#df-79dbe505-1d8e-4914-96cc-59afbd3baebe');\n",
              "          const dataTable =\n",
              "            await google.colab.kernel.invokeFunction('convertToInteractive',\n",
              "                                                     [key], {});\n",
              "          if (!dataTable) return;\n",
              "\n",
              "          const docLinkHtml = 'Like what you see? Visit the ' +\n",
              "            '<a target=\"_blank\" href=https://colab.research.google.com/notebooks/data_table.ipynb>data table notebook</a>'\n",
              "            + ' to learn more about interactive tables.';\n",
              "          element.innerHTML = '';\n",
              "          dataTable['output_type'] = 'display_data';\n",
              "          await google.colab.output.renderOutput(dataTable, element);\n",
              "          const docLink = document.createElement('div');\n",
              "          docLink.innerHTML = docLinkHtml;\n",
              "          element.appendChild(docLink);\n",
              "        }\n",
              "      </script>\n",
              "    </div>\n",
              "  </div>\n",
              "  "
            ],
            "text/plain": [
              "                                   importance  rank  norm_cummulative\n",
              "features                                                             \n",
              "YearMade                            26.199362     1          0.261994\n",
              "fiBaseModel                         16.983571     2          0.431829\n",
              "sale_year                           14.265356     3          0.574483\n",
              "fiProductClassDesc                  12.617978     4          0.700663\n",
              "fiSecondaryDesc                      8.168089     5          0.782344\n",
              "ProductSize                          3.601250     6          0.818356\n",
              "ModelID                              2.994664     7          0.848303\n",
              "Enclosure_EROPS w AC                 1.953379     8          0.867837\n",
              "Drive_System_nan                     1.367562     9          0.881512\n",
              "Enclosure_OROPS                      0.973166    10          0.891244\n",
              "fiModelDescriptor                    0.772579    11          0.898970\n",
              "state                                0.719376    12          0.906163\n",
              "Tire_Size                            0.675502    13          0.912918\n",
              "fiModelSeries                        0.661881    14          0.919537\n",
              "YearMade_outlier                     0.536009    15          0.924897\n",
              "sale_dayofyear                       0.375368    16          0.928651\n",
              "Drive_System_Four Wheel Drive        0.374019    17          0.932391\n",
              "Ripper_nan                           0.327816    18          0.935669\n",
              "Ripper_None or Unspecified           0.297542    19          0.938645\n",
              "auctioneerID_freq                    0.288367    20          0.941528\n",
              "ProductGroupDesc_Wheel Loader        0.276581    21          0.944294\n",
              "Hydraulics                           0.272818    22          0.947022\n",
              "Coupler_nan                          0.257374    23          0.949596\n",
              "MachineID                            0.243741    24          0.952034\n",
              "sale_month                           0.235495    25          0.954388\n",
              "MachineHoursCurrentMeter             0.233888    26          0.956727\n",
              "Scarifier_nan                        0.230755    27          0.959035\n",
              "auctioneerID                         0.183560    28          0.960870\n",
              "Drive_System_Two Wheel Drive         0.181686    29          0.962687\n",
              "Pushblock_nan                        0.165511    30          0.964342\n",
              "sale_weekofyear                      0.159448    31          0.965937\n",
              "UsageBand                            0.159019    32          0.967527\n",
              "Blade_Type                           0.150640    33          0.969034\n",
              "Tip_Control_nan                      0.142296    34          0.970456\n",
              "Forks_nan                            0.141929    35          0.971876\n",
              "datasource_freq                      0.139689    36          0.973273\n",
              "ProductGroupDesc_Track Excavators    0.134924    37          0.974622\n",
              "Enclosure_EROPS                      0.133406    38          0.975956\n",
              "Track_Type_nan                       0.127694    39          0.977233\n",
              "MachineID_freq                       0.117862    40          0.978412\n",
              "sale_dayofweek                       0.105827    41          0.979470"
            ]
          },
          "metadata": {},
          "execution_count": 13
        }
      ],
      "source": [
        "imp = base_ordr.get_feature_importance(type='PredictionValuesChange')\n",
        "fi = utils.feature_importances(base_ordr, xtrn.columns, imp, .98)\n",
        "fi"
      ]
    },
    {
      "cell_type": "code",
      "execution_count": 14,
      "metadata": {
        "id": "4ByDoLJ9ptq9",
        "colab": {
          "base_uri": "https://localhost:8080/"
        },
        "outputId": "4da10a1d-dd10-4198-92a6-bc7df2a5d35b"
      },
      "outputs": [
        {
          "output_type": "stream",
          "name": "stdout",
          "text": [
            "(41, 139)\n"
          ]
        },
        {
          "output_type": "execute_result",
          "data": {
            "text/plain": [
              "array(['YearMade', 'fiBaseModel', 'sale_year', 'fiProductClassDesc',\n",
              "       'fiSecondaryDesc', 'ProductSize', 'ModelID',\n",
              "       'Enclosure_EROPS w AC', 'Drive_System_nan', 'Enclosure_OROPS',\n",
              "       'fiModelDescriptor', 'state', 'Tire_Size', 'fiModelSeries',\n",
              "       'YearMade_outlier', 'sale_dayofyear',\n",
              "       'Drive_System_Four Wheel Drive', 'Ripper_nan',\n",
              "       'Ripper_None or Unspecified', 'auctioneerID_freq',\n",
              "       'ProductGroupDesc_Wheel Loader', 'Hydraulics', 'Coupler_nan',\n",
              "       'MachineID', 'sale_month', 'MachineHoursCurrentMeter',\n",
              "       'Scarifier_nan', 'auctioneerID', 'Drive_System_Two Wheel Drive',\n",
              "       'Pushblock_nan', 'sale_weekofyear', 'UsageBand', 'Blade_Type',\n",
              "       'Tip_Control_nan', 'Forks_nan', 'datasource_freq',\n",
              "       'ProductGroupDesc_Track Excavators', 'Enclosure_EROPS',\n",
              "       'Track_Type_nan', 'MachineID_freq', 'sale_dayofweek'], dtype=object)"
            ]
          },
          "metadata": {},
          "execution_count": 14
        }
      ],
      "source": [
        "fi_cols = fi.index.to_numpy()\n",
        "print((len(fi_cols), len(xtrn.columns)))\n",
        "fi_cols"
      ]
    },
    {
      "cell_type": "code",
      "source": [
        "ordr_fi = cat.CatBoostRegressor(**params)\n",
        "ordr_fi.fit(xtrn[fi_cols].values, ytrn,\n",
        "          eval_set=[(xval[fi_cols].values,yval)],\n",
        "          verbose=500)"
      ],
      "metadata": {
        "id": "cgL_gwZi-M38",
        "colab": {
          "base_uri": "https://localhost:8080/"
        },
        "outputId": "ea660ad3-8e07-436b-caec-e723ccacd31e"
      },
      "execution_count": 15,
      "outputs": [
        {
          "output_type": "stream",
          "name": "stdout",
          "text": [
            "0:\tlearn: 0.6482158\ttest: 0.6938546\tbest: 0.6938546 (0)\ttotal: 122ms\tremaining: 6m 4s\n",
            "500:\tlearn: 0.2092339\ttest: 0.2358437\tbest: 0.2358437 (499)\ttotal: 44.6s\tremaining: 3m 42s\n",
            "1000:\tlearn: 0.2016242\ttest: 0.2305493\tbest: 0.2305289 (997)\ttotal: 1m 26s\tremaining: 2m 52s\n",
            "1500:\tlearn: 0.1983634\ttest: 0.2286326\tbest: 0.2286323 (1499)\ttotal: 2m 7s\tremaining: 2m 6s\n",
            "2000:\tlearn: 0.1961341\ttest: 0.2277518\tbest: 0.2277518 (1999)\ttotal: 2m 48s\tremaining: 1m 24s\n",
            "2500:\tlearn: 0.1945978\ttest: 0.2269399\tbest: 0.2269399 (2500)\ttotal: 3m 30s\tremaining: 42s\n",
            "2999:\tlearn: 0.1936889\ttest: 0.2265974\tbest: 0.2265974 (2999)\ttotal: 4m 10s\tremaining: 0us\n",
            "bestTest = 0.226597426\n",
            "bestIteration = 2999\n"
          ]
        },
        {
          "output_type": "execute_result",
          "data": {
            "text/plain": [
              "<catboost.core.CatBoostRegressor at 0x7fd5d9803090>"
            ]
          },
          "metadata": {},
          "execution_count": 15
        }
      ]
    },
    {
      "cell_type": "code",
      "execution_count": 16,
      "metadata": {
        "id": "8z1h3gjOptq9",
        "colab": {
          "base_uri": "https://localhost:8080/"
        },
        "outputId": "43cf4345-bb02-4b63-9e07-485ca0c09642"
      },
      "outputs": [
        {
          "output_type": "execute_result",
          "data": {
            "text/plain": [
              "0.22659699073737885"
            ]
          },
          "metadata": {},
          "execution_count": 16
        }
      ],
      "source": [
        "evaluate(ordr_fi, 'ordr_fi', xval[fi_cols])"
      ]
    },
    {
      "cell_type": "markdown",
      "metadata": {
        "id": "GvVIVBT3YS2i"
      },
      "source": [
        "## Hiwamari"
      ]
    },
    {
      "cell_type": "code",
      "source": [
        "from hiwamari import hiwamari"
      ],
      "metadata": {
        "id": "2zE9Db2PEUhM"
      },
      "execution_count": 17,
      "outputs": []
    },
    {
      "cell_type": "code",
      "metadata": {
        "id": "cjnZnWsLPgzt",
        "colab": {
          "base_uri": "https://localhost:8080/",
          "height": 104,
          "referenced_widgets": [
            "0db3f3756dc5434b9d1d231a20398b7b",
            "908bcfee9ee546d7aa2015c2736f92f9",
            "a1684759a8f84ccaa7eb8d6221769796",
            "ac2ddbaf16d143d38d7aaec45a800658",
            "bd08b7633504494a8971c335ded76182",
            "cabd66f01ee8486483c835c62ed31341",
            "252dadc2f7ac4cedbcfdee63b885ba9b",
            "e4e67d3269c44fbda7f85b56a38df814",
            "dd109cda976f46e9b99e2e1192f451e4",
            "d34da5e193a44a6d91e29e54f26334fd",
            "5653e1535349480199ddb786f50af132"
          ]
        },
        "outputId": "0d7dc41f-71f7-4b14-94aa-5f6258dc37b0"
      },
      "source": [
        "%%time\n",
        "hiwa_cols = hiwamari(estimator=DecisionTreeRegressor(max_depth=16),\n",
        "                          X=xtrn, y=ytrn, max_samples=.2,\n",
        "                          n_iters=25, early_stopping_rounds=5,\n",
        "                          scale_factor=0.5, noise=None) \n",
        "print(hiwa_cols.shape)"
      ],
      "execution_count": 18,
      "outputs": [
        {
          "output_type": "display_data",
          "data": {
            "application/vnd.jupyter.widget-view+json": {
              "model_id": "0db3f3756dc5434b9d1d231a20398b7b",
              "version_minor": 0,
              "version_major": 2
            },
            "text/plain": [
              "  0%|          | 0/25 [00:00<?, ?it/s]"
            ]
          },
          "metadata": {}
        },
        {
          "output_type": "stream",
          "name": "stdout",
          "text": [
            "(43,)\n",
            "CPU times: user 1min 24s, sys: 2.13 s, total: 1min 26s\n",
            "Wall time: 1min 26s\n"
          ]
        }
      ]
    },
    {
      "cell_type": "code",
      "source": [
        "hiwa_cols"
      ],
      "metadata": {
        "id": "ocQc-t1RcT8n",
        "colab": {
          "base_uri": "https://localhost:8080/"
        },
        "outputId": "f0700701-dbea-49d7-82b6-5dcb989fd387"
      },
      "execution_count": 19,
      "outputs": [
        {
          "output_type": "execute_result",
          "data": {
            "text/plain": [
              "array(['MachineID', 'ModelID', 'auctioneerID', 'YearMade',\n",
              "       'MachineHoursCurrentMeter', 'fiBaseModel', 'fiSecondaryDesc',\n",
              "       'fiModelSeries', 'fiModelDescriptor', 'ProductSize',\n",
              "       'fiProductClassDesc', 'state', 'ProductGroupDesc_Wheel Loader',\n",
              "       'ProductGroupDesc_Skid Steer Loaders',\n",
              "       'ProductGroupDesc_Track Type Tractors',\n",
              "       'Drive_System_Four Wheel Drive', 'Drive_System_Two Wheel Drive',\n",
              "       'Drive_System_No', 'Enclosure_EROPS w AC', 'Enclosure_OROPS',\n",
              "       'Stick_Extended', 'Transmission',\n",
              "       'Blade_Extension_None or Unspecified', 'Hydraulics',\n",
              "       'Ripper_None or Unspecified', 'Ripper_Multi Shank',\n",
              "       'Scarifier_nan', 'Tire_Size', 'Track_Type_Steel',\n",
              "       'Pattern_Changer_None or Unspecified', 'Blade_Type',\n",
              "       'YearMade_outlier', 'MachineID_freq', 'ModelID_freq',\n",
              "       'datasource_freq', 'auctioneerID_freq', 'sale_day', 'sale_year',\n",
              "       'sale_dayofweek', 'sale_dayofyear', 'sale_days_in_month',\n",
              "       'sale_weekofyear', 'MachineHoursCurrentMeter_na'], dtype=object)"
            ]
          },
          "metadata": {},
          "execution_count": 19
        }
      ]
    },
    {
      "cell_type": "code",
      "source": [
        "ordr_hiwa = cat.CatBoostRegressor(**params)\n",
        "ordr_hiwa.fit(xtrn[hiwa_cols].values, ytrn,\n",
        "          eval_set=[(xval[hiwa_cols].values,yval)],\n",
        "          verbose=500)"
      ],
      "metadata": {
        "id": "OfrzYqcIHghl",
        "colab": {
          "base_uri": "https://localhost:8080/"
        },
        "outputId": "d4011fb4-4ba8-4e2a-e478-1bf34c9a99d5"
      },
      "execution_count": 20,
      "outputs": [
        {
          "output_type": "stream",
          "name": "stdout",
          "text": [
            "0:\tlearn: 0.6481156\ttest: 0.6942527\tbest: 0.6942527 (0)\ttotal: 117ms\tremaining: 5m 50s\n",
            "500:\tlearn: 0.2088162\ttest: 0.2360975\tbest: 0.2360975 (500)\ttotal: 47.7s\tremaining: 3m 58s\n",
            "1000:\tlearn: 0.2010552\ttest: 0.2306556\tbest: 0.2306550 (998)\ttotal: 1m 30s\tremaining: 3m 1s\n",
            "1500:\tlearn: 0.1977786\ttest: 0.2288538\tbest: 0.2288534 (1497)\ttotal: 2m 10s\tremaining: 2m 10s\n",
            "2000:\tlearn: 0.1958438\ttest: 0.2276244\tbest: 0.2276237 (1998)\ttotal: 2m 49s\tremaining: 1m 24s\n",
            "2500:\tlearn: 0.1942496\ttest: 0.2269697\tbest: 0.2269593 (2498)\ttotal: 3m 29s\tremaining: 41.8s\n",
            "2999:\tlearn: 0.1929904\ttest: 0.2263169\tbest: 0.2263169 (2999)\ttotal: 4m 10s\tremaining: 0us\n",
            "bestTest = 0.2263169001\n",
            "bestIteration = 2999\n"
          ]
        },
        {
          "output_type": "execute_result",
          "data": {
            "text/plain": [
              "<catboost.core.CatBoostRegressor at 0x7fd5c9387790>"
            ]
          },
          "metadata": {},
          "execution_count": 20
        }
      ]
    },
    {
      "cell_type": "code",
      "execution_count": 21,
      "metadata": {
        "id": "i-9dS7HeHghn",
        "colab": {
          "base_uri": "https://localhost:8080/"
        },
        "outputId": "a8af2adf-db96-47fe-ca6c-3387a306bcbb"
      },
      "outputs": [
        {
          "output_type": "execute_result",
          "data": {
            "text/plain": [
              "0.22631681833828202"
            ]
          },
          "metadata": {},
          "execution_count": 21
        }
      ],
      "source": [
        "evaluate(ordr_hiwa, 'ordr_hiwa', xval[hiwa_cols])"
      ]
    },
    {
      "cell_type": "markdown",
      "source": [
        "## MRMR"
      ],
      "metadata": {
        "id": "nW22_7jWrhpr"
      }
    },
    {
      "cell_type": "code",
      "source": [
        "from mrmr import mrmr"
      ],
      "metadata": {
        "id": "wEWYk53WfB1j"
      },
      "execution_count": 22,
      "outputs": []
    },
    {
      "cell_type": "code",
      "source": [
        "%%time\n",
        "mrmr_cols = mrmr(xtrn, ytrn, K=43, objective='regression', method='rfcq')\n",
        "print(mrmr_cols.shape)"
      ],
      "metadata": {
        "colab": {
          "base_uri": "https://localhost:8080/",
          "height": 104,
          "referenced_widgets": [
            "07141a6e43924442a7eb09cf7837672c",
            "e69c597e709a4870bba6812ca06c87ca",
            "9070ca5f0853442bb8cd9de4d1135eec",
            "d5f71bdbe35d40b8ba6db9fa452803f3",
            "51f4ba1b3ed44b61b7db55a2856aee10",
            "dd232700c9514d1b952abcd63758a78a",
            "96aa7c3fbabc45b59747d004df1c061b",
            "14d3d643bf6f4050a5ae017bdc6c5ada",
            "2bd81b85eff94bb989183692d8479cf9",
            "33b47b7a8a3042d58775bad73550b738",
            "d59c9eda1646479b81cb511c7c3c3dba"
          ]
        },
        "id": "7RarFGSTt8lW",
        "outputId": "ca5b3e3d-7d06-42a9-c0f8-6c8420a13f3e"
      },
      "execution_count": 29,
      "outputs": [
        {
          "output_type": "display_data",
          "data": {
            "application/vnd.jupyter.widget-view+json": {
              "model_id": "07141a6e43924442a7eb09cf7837672c",
              "version_minor": 0,
              "version_major": 2
            },
            "text/plain": [
              "  0%|          | 0/42 [00:00<?, ?it/s]"
            ]
          },
          "metadata": {}
        },
        {
          "output_type": "stream",
          "name": "stdout",
          "text": [
            "(43,)\n",
            "CPU times: user 49.5 s, sys: 326 ms, total: 49.8 s\n",
            "Wall time: 49.5 s\n"
          ]
        }
      ]
    },
    {
      "cell_type": "code",
      "source": [
        "mrmr_cols"
      ],
      "metadata": {
        "colab": {
          "base_uri": "https://localhost:8080/"
        },
        "id": "EI3TKshbdNFy",
        "outputId": "3d50bc66-1149-4ba6-ce34-89e5f9cfa5c8"
      },
      "execution_count": 30,
      "outputs": [
        {
          "output_type": "execute_result",
          "data": {
            "text/plain": [
              "array(['fiBaseModel', 'YearMade', 'sale_year', 'fiProductClassDesc',\n",
              "       'fiSecondaryDesc', 'ModelID', 'sale_dayofyear', 'ProductSize',\n",
              "       'Enclosure_EROPS w AC', 'YearMade_outlier',\n",
              "       'Drive_System_Two Wheel Drive', 'Drive_System_Four Wheel Drive',\n",
              "       'sale_day', 'Grouser_Tracks_None or Unspecified', 'fiModelSeries',\n",
              "       'MachineHoursCurrentMeter', 'Ride_Control_None or Unspecified',\n",
              "       'Enclosure_OROPS', 'state', 'auctioneerID', 'MachineID',\n",
              "       'Ripper_None or Unspecified', 'Tire_Size', 'fiModelDescriptor',\n",
              "       'sale_weekofyear', 'Hydraulics_Flow_Standard', 'Ripper_Yes',\n",
              "       'ModelID_freq', 'Blade_Type', 'Hydraulics', 'auctioneerID_freq',\n",
              "       'ProductGroupDesc_Skid Steer Loaders', 'MachineID_freq',\n",
              "       'ProductGroupDesc_Track Type Tractors', 'sale_week',\n",
              "       'datasource_freq', 'ProductGroupDesc_Track Excavators',\n",
              "       'Transmission', 'Drive_System_nan', 'Ripper_nan',\n",
              "       'Track_Type_Steel', 'ProductGroupDesc_Motor Graders',\n",
              "       'sale_dayofweek'], dtype='<U36')"
            ]
          },
          "metadata": {},
          "execution_count": 30
        }
      ]
    },
    {
      "cell_type": "code",
      "source": [
        "ordr_mrmr = cat.CatBoostRegressor(**params)\n",
        "ordr_mrmr.fit(xtrn[mrmr_cols].values, ytrn,\n",
        "          eval_set=[(xval[mrmr_cols].values,yval)],\n",
        "          verbose=500)"
      ],
      "metadata": {
        "colab": {
          "base_uri": "https://localhost:8080/"
        },
        "outputId": "9f5f1372-0800-4c44-ee2d-714327869fd6",
        "id": "3huXEwaZJ9eQ"
      },
      "execution_count": 31,
      "outputs": [
        {
          "output_type": "stream",
          "name": "stderr",
          "text": [
            "Warning: less than 75% gpu memory available for training. Free: 1521.75 Total: 16280.875\n"
          ]
        },
        {
          "output_type": "stream",
          "name": "stdout",
          "text": [
            "0:\tlearn: 0.6484915\ttest: 0.6932722\tbest: 0.6932722 (0)\ttotal: 114ms\tremaining: 5m 41s\n",
            "500:\tlearn: 0.2089731\ttest: 0.2352269\tbest: 0.2352257 (497)\ttotal: 47.8s\tremaining: 3m 58s\n",
            "1000:\tlearn: 0.2022832\ttest: 0.2302760\tbest: 0.2302760 (1000)\ttotal: 1m 23s\tremaining: 2m 47s\n",
            "1500:\tlearn: 0.1982341\ttest: 0.2283050\tbest: 0.2282936 (1490)\ttotal: 2m 3s\tremaining: 2m 3s\n",
            "2000:\tlearn: 0.1960394\ttest: 0.2274127\tbest: 0.2274113 (1988)\ttotal: 2m 42s\tremaining: 1m 20s\n",
            "2500:\tlearn: 0.1947719\ttest: 0.2267411\tbest: 0.2267411 (2500)\ttotal: 3m 18s\tremaining: 39.7s\n",
            "2999:\tlearn: 0.1936409\ttest: 0.2262643\tbest: 0.2262601 (2964)\ttotal: 3m 59s\tremaining: 0us\n",
            "bestTest = 0.2262600796\n",
            "bestIteration = 2964\n",
            "Shrink model to first 2965 iterations.\n"
          ]
        },
        {
          "output_type": "execute_result",
          "data": {
            "text/plain": [
              "<catboost.core.CatBoostRegressor at 0x7fd5d7fbaa90>"
            ]
          },
          "metadata": {},
          "execution_count": 31
        }
      ]
    },
    {
      "cell_type": "code",
      "execution_count": 32,
      "metadata": {
        "id": "d789P6IWJ9eR",
        "colab": {
          "base_uri": "https://localhost:8080/"
        },
        "outputId": "0c2a1922-dac5-4a4b-d3d7-c836bbf12386"
      },
      "outputs": [
        {
          "output_type": "execute_result",
          "data": {
            "text/plain": [
              "0.22625961864526628"
            ]
          },
          "metadata": {},
          "execution_count": 32
        }
      ],
      "source": [
        "evaluate(ordr_mrmr, 'ordr_mrmr', xval[mrmr_cols])"
      ]
    },
    {
      "cell_type": "code",
      "source": [
        "scores"
      ],
      "metadata": {
        "colab": {
          "base_uri": "https://localhost:8080/"
        },
        "id": "a511nm9BvR1L",
        "outputId": "77b70e73-341b-4834-b78a-9cbbdaa6e9b8"
      },
      "execution_count": 33,
      "outputs": [
        {
          "output_type": "execute_result",
          "data": {
            "text/plain": [
              "{'ordr_fi': 0.22659699073737885,\n",
              " 'ordr_hiwa': 0.22631681833828202,\n",
              " 'ordr_mrmr': 0.22625961864526628}"
            ]
          },
          "metadata": {},
          "execution_count": 33
        }
      ]
    },
    {
      "cell_type": "code",
      "source": [
        "scores"
      ],
      "metadata": {
        "colab": {
          "base_uri": "https://localhost:8080/"
        },
        "id": "li78rRf3wzbE",
        "outputId": "7034dde8-5d38-4627-8f96-ba0f11a48d03"
      },
      "execution_count": null,
      "outputs": [
        {
          "output_type": "execute_result",
          "data": {
            "text/plain": [
              "{'ordr_fi': 0.2268937069984216,\n",
              " 'ordr_hiwa': 0.22706927124686374,\n",
              " 'ordr_mrmr': 0.2257056887037802}"
            ]
          },
          "metadata": {},
          "execution_count": 23
        }
      ]
    },
    {
      "cell_type": "markdown",
      "metadata": {
        "id": "1S4Nk9GDjDLg"
      },
      "source": [
        "## Boruta"
      ]
    },
    {
      "cell_type": "code",
      "metadata": {
        "id": "BotCSZgVRIiK",
        "colab": {
          "base_uri": "https://localhost:8080/",
          "height": 434
        },
        "outputId": "eaa33dcb-ea19-41bb-e9f2-8cb1eaf6a663"
      },
      "source": [
        "from boruta import BorutaPy\n",
        "from sklearn.ensemble import RandomForestRegressor\n",
        "\n",
        "boruta_selector = BorutaPy(RandomForestRegressor(max_depth=4),  \n",
        "                           n_estimators=100, max_iter=10, perc=75,\n",
        "                           verbose=20, two_step=False)\n",
        "\n",
        "boruta_selector.fit(xtrn.values,ytrn.values)"
      ],
      "execution_count": null,
      "outputs": [
        {
          "output_type": "stream",
          "name": "stdout",
          "text": [
            "Iteration: \t1 / 10\n",
            "Confirmed: \t0\n",
            "Tentative: \t138\n",
            "Rejected: \t0\n"
          ]
        },
        {
          "output_type": "error",
          "ename": "KeyboardInterrupt",
          "evalue": "ignored",
          "traceback": [
            "\u001b[0;31m---------------------------------------------------------------------------\u001b[0m",
            "\u001b[0;31mKeyboardInterrupt\u001b[0m                         Traceback (most recent call last)",
            "\u001b[0;32m<ipython-input-55-0d8965eb3562>\u001b[0m in \u001b[0;36m<module>\u001b[0;34m()\u001b[0m\n\u001b[1;32m      6\u001b[0m                            verbose=20, two_step=False)\n\u001b[1;32m      7\u001b[0m \u001b[0;34m\u001b[0m\u001b[0m\n\u001b[0;32m----> 8\u001b[0;31m \u001b[0mboruta_selector\u001b[0m\u001b[0;34m.\u001b[0m\u001b[0mfit\u001b[0m\u001b[0;34m(\u001b[0m\u001b[0mxtrn\u001b[0m\u001b[0;34m.\u001b[0m\u001b[0mvalues\u001b[0m\u001b[0;34m,\u001b[0m\u001b[0mytrn\u001b[0m\u001b[0;34m.\u001b[0m\u001b[0mvalues\u001b[0m\u001b[0;34m)\u001b[0m\u001b[0;34m\u001b[0m\u001b[0;34m\u001b[0m\u001b[0m\n\u001b[0m",
            "\u001b[0;32m/usr/local/lib/python3.7/dist-packages/boruta/boruta_py.py\u001b[0m in \u001b[0;36mfit\u001b[0;34m(self, X, y)\u001b[0m\n\u001b[1;32m    199\u001b[0m         \"\"\"\n\u001b[1;32m    200\u001b[0m \u001b[0;34m\u001b[0m\u001b[0m\n\u001b[0;32m--> 201\u001b[0;31m         \u001b[0;32mreturn\u001b[0m \u001b[0mself\u001b[0m\u001b[0;34m.\u001b[0m\u001b[0m_fit\u001b[0m\u001b[0;34m(\u001b[0m\u001b[0mX\u001b[0m\u001b[0;34m,\u001b[0m \u001b[0my\u001b[0m\u001b[0;34m)\u001b[0m\u001b[0;34m\u001b[0m\u001b[0;34m\u001b[0m\u001b[0m\n\u001b[0m\u001b[1;32m    202\u001b[0m \u001b[0;34m\u001b[0m\u001b[0m\n\u001b[1;32m    203\u001b[0m     \u001b[0;32mdef\u001b[0m \u001b[0mtransform\u001b[0m\u001b[0;34m(\u001b[0m\u001b[0mself\u001b[0m\u001b[0;34m,\u001b[0m \u001b[0mX\u001b[0m\u001b[0;34m,\u001b[0m \u001b[0mweak\u001b[0m\u001b[0;34m=\u001b[0m\u001b[0;32mFalse\u001b[0m\u001b[0;34m)\u001b[0m\u001b[0;34m:\u001b[0m\u001b[0;34m\u001b[0m\u001b[0;34m\u001b[0m\u001b[0m\n",
            "\u001b[0;32m/usr/local/lib/python3.7/dist-packages/boruta/boruta_py.py\u001b[0m in \u001b[0;36m_fit\u001b[0;34m(self, X, y)\u001b[0m\n\u001b[1;32m    283\u001b[0m \u001b[0;34m\u001b[0m\u001b[0m\n\u001b[1;32m    284\u001b[0m             \u001b[0;31m# add shadow attributes, shuffle them and train estimator, get imps\u001b[0m\u001b[0;34m\u001b[0m\u001b[0;34m\u001b[0m\u001b[0;34m\u001b[0m\u001b[0m\n\u001b[0;32m--> 285\u001b[0;31m             \u001b[0mcur_imp\u001b[0m \u001b[0;34m=\u001b[0m \u001b[0mself\u001b[0m\u001b[0;34m.\u001b[0m\u001b[0m_add_shadows_get_imps\u001b[0m\u001b[0;34m(\u001b[0m\u001b[0mX\u001b[0m\u001b[0;34m,\u001b[0m \u001b[0my\u001b[0m\u001b[0;34m,\u001b[0m \u001b[0mdec_reg\u001b[0m\u001b[0;34m)\u001b[0m\u001b[0;34m\u001b[0m\u001b[0;34m\u001b[0m\u001b[0m\n\u001b[0m\u001b[1;32m    286\u001b[0m \u001b[0;34m\u001b[0m\u001b[0m\n\u001b[1;32m    287\u001b[0m             \u001b[0;31m# get the threshold of shadow importances we will use for rejection\u001b[0m\u001b[0;34m\u001b[0m\u001b[0;34m\u001b[0m\u001b[0;34m\u001b[0m\u001b[0m\n",
            "\u001b[0;32m/usr/local/lib/python3.7/dist-packages/boruta/boruta_py.py\u001b[0m in \u001b[0;36m_add_shadows_get_imps\u001b[0;34m(self, X, y, dec_reg)\u001b[0m\n\u001b[1;32m    410\u001b[0m         \u001b[0mx_sha\u001b[0m \u001b[0;34m=\u001b[0m \u001b[0mnp\u001b[0m\u001b[0;34m.\u001b[0m\u001b[0mapply_along_axis\u001b[0m\u001b[0;34m(\u001b[0m\u001b[0mself\u001b[0m\u001b[0;34m.\u001b[0m\u001b[0m_get_shuffle\u001b[0m\u001b[0;34m,\u001b[0m \u001b[0;36m0\u001b[0m\u001b[0;34m,\u001b[0m \u001b[0mx_sha\u001b[0m\u001b[0;34m)\u001b[0m\u001b[0;34m\u001b[0m\u001b[0;34m\u001b[0m\u001b[0m\n\u001b[1;32m    411\u001b[0m         \u001b[0;31m# get importance of the merged matrix\u001b[0m\u001b[0;34m\u001b[0m\u001b[0;34m\u001b[0m\u001b[0;34m\u001b[0m\u001b[0m\n\u001b[0;32m--> 412\u001b[0;31m         \u001b[0mimp\u001b[0m \u001b[0;34m=\u001b[0m \u001b[0mself\u001b[0m\u001b[0;34m.\u001b[0m\u001b[0m_get_imp\u001b[0m\u001b[0;34m(\u001b[0m\u001b[0mnp\u001b[0m\u001b[0;34m.\u001b[0m\u001b[0mhstack\u001b[0m\u001b[0;34m(\u001b[0m\u001b[0;34m(\u001b[0m\u001b[0mx_cur\u001b[0m\u001b[0;34m,\u001b[0m \u001b[0mx_sha\u001b[0m\u001b[0;34m)\u001b[0m\u001b[0;34m)\u001b[0m\u001b[0;34m,\u001b[0m \u001b[0my\u001b[0m\u001b[0;34m)\u001b[0m\u001b[0;34m\u001b[0m\u001b[0;34m\u001b[0m\u001b[0m\n\u001b[0m\u001b[1;32m    413\u001b[0m         \u001b[0;31m# separate importances of real and shadow features\u001b[0m\u001b[0;34m\u001b[0m\u001b[0;34m\u001b[0m\u001b[0;34m\u001b[0m\u001b[0m\n\u001b[1;32m    414\u001b[0m         \u001b[0mimp_sha\u001b[0m \u001b[0;34m=\u001b[0m \u001b[0mimp\u001b[0m\u001b[0;34m[\u001b[0m\u001b[0mx_cur_w\u001b[0m\u001b[0;34m:\u001b[0m\u001b[0;34m]\u001b[0m\u001b[0;34m\u001b[0m\u001b[0;34m\u001b[0m\u001b[0m\n",
            "\u001b[0;32m/usr/local/lib/python3.7/dist-packages/boruta/boruta_py.py\u001b[0m in \u001b[0;36m_get_imp\u001b[0;34m(self, X, y)\u001b[0m\n\u001b[1;32m    382\u001b[0m     \u001b[0;32mdef\u001b[0m \u001b[0m_get_imp\u001b[0m\u001b[0;34m(\u001b[0m\u001b[0mself\u001b[0m\u001b[0;34m,\u001b[0m \u001b[0mX\u001b[0m\u001b[0;34m,\u001b[0m \u001b[0my\u001b[0m\u001b[0;34m)\u001b[0m\u001b[0;34m:\u001b[0m\u001b[0;34m\u001b[0m\u001b[0;34m\u001b[0m\u001b[0m\n\u001b[1;32m    383\u001b[0m         \u001b[0;32mtry\u001b[0m\u001b[0;34m:\u001b[0m\u001b[0;34m\u001b[0m\u001b[0;34m\u001b[0m\u001b[0m\n\u001b[0;32m--> 384\u001b[0;31m             \u001b[0mself\u001b[0m\u001b[0;34m.\u001b[0m\u001b[0mestimator\u001b[0m\u001b[0;34m.\u001b[0m\u001b[0mfit\u001b[0m\u001b[0;34m(\u001b[0m\u001b[0mX\u001b[0m\u001b[0;34m,\u001b[0m \u001b[0my\u001b[0m\u001b[0;34m)\u001b[0m\u001b[0;34m\u001b[0m\u001b[0;34m\u001b[0m\u001b[0m\n\u001b[0m\u001b[1;32m    385\u001b[0m         \u001b[0;32mexcept\u001b[0m \u001b[0mException\u001b[0m \u001b[0;32mas\u001b[0m \u001b[0me\u001b[0m\u001b[0;34m:\u001b[0m\u001b[0;34m\u001b[0m\u001b[0;34m\u001b[0m\u001b[0m\n\u001b[1;32m    386\u001b[0m             raise ValueError('Please check your X and y variable. The provided'\n",
            "\u001b[0;32m/usr/local/lib/python3.7/dist-packages/sklearn/ensemble/_forest.py\u001b[0m in \u001b[0;36mfit\u001b[0;34m(self, X, y, sample_weight)\u001b[0m\n\u001b[1;32m    465\u001b[0m                     \u001b[0mn_samples_bootstrap\u001b[0m\u001b[0;34m=\u001b[0m\u001b[0mn_samples_bootstrap\u001b[0m\u001b[0;34m,\u001b[0m\u001b[0;34m\u001b[0m\u001b[0;34m\u001b[0m\u001b[0m\n\u001b[1;32m    466\u001b[0m                 )\n\u001b[0;32m--> 467\u001b[0;31m                 \u001b[0;32mfor\u001b[0m \u001b[0mi\u001b[0m\u001b[0;34m,\u001b[0m \u001b[0mt\u001b[0m \u001b[0;32min\u001b[0m \u001b[0menumerate\u001b[0m\u001b[0;34m(\u001b[0m\u001b[0mtrees\u001b[0m\u001b[0;34m)\u001b[0m\u001b[0;34m\u001b[0m\u001b[0;34m\u001b[0m\u001b[0m\n\u001b[0m\u001b[1;32m    468\u001b[0m             )\n\u001b[1;32m    469\u001b[0m \u001b[0;34m\u001b[0m\u001b[0m\n",
            "\u001b[0;32m/usr/local/lib/python3.7/dist-packages/joblib/parallel.py\u001b[0m in \u001b[0;36m__call__\u001b[0;34m(self, iterable)\u001b[0m\n\u001b[1;32m   1044\u001b[0m                 \u001b[0mself\u001b[0m\u001b[0;34m.\u001b[0m\u001b[0m_iterating\u001b[0m \u001b[0;34m=\u001b[0m \u001b[0mself\u001b[0m\u001b[0;34m.\u001b[0m\u001b[0m_original_iterator\u001b[0m \u001b[0;32mis\u001b[0m \u001b[0;32mnot\u001b[0m \u001b[0;32mNone\u001b[0m\u001b[0;34m\u001b[0m\u001b[0;34m\u001b[0m\u001b[0m\n\u001b[1;32m   1045\u001b[0m \u001b[0;34m\u001b[0m\u001b[0m\n\u001b[0;32m-> 1046\u001b[0;31m             \u001b[0;32mwhile\u001b[0m \u001b[0mself\u001b[0m\u001b[0;34m.\u001b[0m\u001b[0mdispatch_one_batch\u001b[0m\u001b[0;34m(\u001b[0m\u001b[0miterator\u001b[0m\u001b[0;34m)\u001b[0m\u001b[0;34m:\u001b[0m\u001b[0;34m\u001b[0m\u001b[0;34m\u001b[0m\u001b[0m\n\u001b[0m\u001b[1;32m   1047\u001b[0m                 \u001b[0;32mpass\u001b[0m\u001b[0;34m\u001b[0m\u001b[0;34m\u001b[0m\u001b[0m\n\u001b[1;32m   1048\u001b[0m \u001b[0;34m\u001b[0m\u001b[0m\n",
            "\u001b[0;32m/usr/local/lib/python3.7/dist-packages/joblib/parallel.py\u001b[0m in \u001b[0;36mdispatch_one_batch\u001b[0;34m(self, iterator)\u001b[0m\n\u001b[1;32m    859\u001b[0m                 \u001b[0;32mreturn\u001b[0m \u001b[0;32mFalse\u001b[0m\u001b[0;34m\u001b[0m\u001b[0;34m\u001b[0m\u001b[0m\n\u001b[1;32m    860\u001b[0m             \u001b[0;32melse\u001b[0m\u001b[0;34m:\u001b[0m\u001b[0;34m\u001b[0m\u001b[0;34m\u001b[0m\u001b[0m\n\u001b[0;32m--> 861\u001b[0;31m                 \u001b[0mself\u001b[0m\u001b[0;34m.\u001b[0m\u001b[0m_dispatch\u001b[0m\u001b[0;34m(\u001b[0m\u001b[0mtasks\u001b[0m\u001b[0;34m)\u001b[0m\u001b[0;34m\u001b[0m\u001b[0;34m\u001b[0m\u001b[0m\n\u001b[0m\u001b[1;32m    862\u001b[0m                 \u001b[0;32mreturn\u001b[0m \u001b[0;32mTrue\u001b[0m\u001b[0;34m\u001b[0m\u001b[0;34m\u001b[0m\u001b[0m\n\u001b[1;32m    863\u001b[0m \u001b[0;34m\u001b[0m\u001b[0m\n",
            "\u001b[0;32m/usr/local/lib/python3.7/dist-packages/joblib/parallel.py\u001b[0m in \u001b[0;36m_dispatch\u001b[0;34m(self, batch)\u001b[0m\n\u001b[1;32m    777\u001b[0m         \u001b[0;32mwith\u001b[0m \u001b[0mself\u001b[0m\u001b[0;34m.\u001b[0m\u001b[0m_lock\u001b[0m\u001b[0;34m:\u001b[0m\u001b[0;34m\u001b[0m\u001b[0;34m\u001b[0m\u001b[0m\n\u001b[1;32m    778\u001b[0m             \u001b[0mjob_idx\u001b[0m \u001b[0;34m=\u001b[0m \u001b[0mlen\u001b[0m\u001b[0;34m(\u001b[0m\u001b[0mself\u001b[0m\u001b[0;34m.\u001b[0m\u001b[0m_jobs\u001b[0m\u001b[0;34m)\u001b[0m\u001b[0;34m\u001b[0m\u001b[0;34m\u001b[0m\u001b[0m\n\u001b[0;32m--> 779\u001b[0;31m             \u001b[0mjob\u001b[0m \u001b[0;34m=\u001b[0m \u001b[0mself\u001b[0m\u001b[0;34m.\u001b[0m\u001b[0m_backend\u001b[0m\u001b[0;34m.\u001b[0m\u001b[0mapply_async\u001b[0m\u001b[0;34m(\u001b[0m\u001b[0mbatch\u001b[0m\u001b[0;34m,\u001b[0m \u001b[0mcallback\u001b[0m\u001b[0;34m=\u001b[0m\u001b[0mcb\u001b[0m\u001b[0;34m)\u001b[0m\u001b[0;34m\u001b[0m\u001b[0;34m\u001b[0m\u001b[0m\n\u001b[0m\u001b[1;32m    780\u001b[0m             \u001b[0;31m# A job can complete so quickly than its callback is\u001b[0m\u001b[0;34m\u001b[0m\u001b[0;34m\u001b[0m\u001b[0;34m\u001b[0m\u001b[0m\n\u001b[1;32m    781\u001b[0m             \u001b[0;31m# called before we get here, causing self._jobs to\u001b[0m\u001b[0;34m\u001b[0m\u001b[0;34m\u001b[0m\u001b[0;34m\u001b[0m\u001b[0m\n",
            "\u001b[0;32m/usr/local/lib/python3.7/dist-packages/joblib/_parallel_backends.py\u001b[0m in \u001b[0;36mapply_async\u001b[0;34m(self, func, callback)\u001b[0m\n\u001b[1;32m    206\u001b[0m     \u001b[0;32mdef\u001b[0m \u001b[0mapply_async\u001b[0m\u001b[0;34m(\u001b[0m\u001b[0mself\u001b[0m\u001b[0;34m,\u001b[0m \u001b[0mfunc\u001b[0m\u001b[0;34m,\u001b[0m \u001b[0mcallback\u001b[0m\u001b[0;34m=\u001b[0m\u001b[0;32mNone\u001b[0m\u001b[0;34m)\u001b[0m\u001b[0;34m:\u001b[0m\u001b[0;34m\u001b[0m\u001b[0;34m\u001b[0m\u001b[0m\n\u001b[1;32m    207\u001b[0m         \u001b[0;34m\"\"\"Schedule a func to be run\"\"\"\u001b[0m\u001b[0;34m\u001b[0m\u001b[0;34m\u001b[0m\u001b[0m\n\u001b[0;32m--> 208\u001b[0;31m         \u001b[0mresult\u001b[0m \u001b[0;34m=\u001b[0m \u001b[0mImmediateResult\u001b[0m\u001b[0;34m(\u001b[0m\u001b[0mfunc\u001b[0m\u001b[0;34m)\u001b[0m\u001b[0;34m\u001b[0m\u001b[0;34m\u001b[0m\u001b[0m\n\u001b[0m\u001b[1;32m    209\u001b[0m         \u001b[0;32mif\u001b[0m \u001b[0mcallback\u001b[0m\u001b[0;34m:\u001b[0m\u001b[0;34m\u001b[0m\u001b[0;34m\u001b[0m\u001b[0m\n\u001b[1;32m    210\u001b[0m             \u001b[0mcallback\u001b[0m\u001b[0;34m(\u001b[0m\u001b[0mresult\u001b[0m\u001b[0;34m)\u001b[0m\u001b[0;34m\u001b[0m\u001b[0;34m\u001b[0m\u001b[0m\n",
            "\u001b[0;32m/usr/local/lib/python3.7/dist-packages/joblib/_parallel_backends.py\u001b[0m in \u001b[0;36m__init__\u001b[0;34m(self, batch)\u001b[0m\n\u001b[1;32m    570\u001b[0m         \u001b[0;31m# Don't delay the application, to avoid keeping the input\u001b[0m\u001b[0;34m\u001b[0m\u001b[0;34m\u001b[0m\u001b[0;34m\u001b[0m\u001b[0m\n\u001b[1;32m    571\u001b[0m         \u001b[0;31m# arguments in memory\u001b[0m\u001b[0;34m\u001b[0m\u001b[0;34m\u001b[0m\u001b[0;34m\u001b[0m\u001b[0m\n\u001b[0;32m--> 572\u001b[0;31m         \u001b[0mself\u001b[0m\u001b[0;34m.\u001b[0m\u001b[0mresults\u001b[0m \u001b[0;34m=\u001b[0m \u001b[0mbatch\u001b[0m\u001b[0;34m(\u001b[0m\u001b[0;34m)\u001b[0m\u001b[0;34m\u001b[0m\u001b[0;34m\u001b[0m\u001b[0m\n\u001b[0m\u001b[1;32m    573\u001b[0m \u001b[0;34m\u001b[0m\u001b[0m\n\u001b[1;32m    574\u001b[0m     \u001b[0;32mdef\u001b[0m \u001b[0mget\u001b[0m\u001b[0;34m(\u001b[0m\u001b[0mself\u001b[0m\u001b[0;34m)\u001b[0m\u001b[0;34m:\u001b[0m\u001b[0;34m\u001b[0m\u001b[0;34m\u001b[0m\u001b[0m\n",
            "\u001b[0;32m/usr/local/lib/python3.7/dist-packages/joblib/parallel.py\u001b[0m in \u001b[0;36m__call__\u001b[0;34m(self)\u001b[0m\n\u001b[1;32m    261\u001b[0m         \u001b[0;32mwith\u001b[0m \u001b[0mparallel_backend\u001b[0m\u001b[0;34m(\u001b[0m\u001b[0mself\u001b[0m\u001b[0;34m.\u001b[0m\u001b[0m_backend\u001b[0m\u001b[0;34m,\u001b[0m \u001b[0mn_jobs\u001b[0m\u001b[0;34m=\u001b[0m\u001b[0mself\u001b[0m\u001b[0;34m.\u001b[0m\u001b[0m_n_jobs\u001b[0m\u001b[0;34m)\u001b[0m\u001b[0;34m:\u001b[0m\u001b[0;34m\u001b[0m\u001b[0;34m\u001b[0m\u001b[0m\n\u001b[1;32m    262\u001b[0m             return [func(*args, **kwargs)\n\u001b[0;32m--> 263\u001b[0;31m                     for func, args, kwargs in self.items]\n\u001b[0m\u001b[1;32m    264\u001b[0m \u001b[0;34m\u001b[0m\u001b[0m\n\u001b[1;32m    265\u001b[0m     \u001b[0;32mdef\u001b[0m \u001b[0m__reduce__\u001b[0m\u001b[0;34m(\u001b[0m\u001b[0mself\u001b[0m\u001b[0;34m)\u001b[0m\u001b[0;34m:\u001b[0m\u001b[0;34m\u001b[0m\u001b[0;34m\u001b[0m\u001b[0m\n",
            "\u001b[0;32m/usr/local/lib/python3.7/dist-packages/joblib/parallel.py\u001b[0m in \u001b[0;36m<listcomp>\u001b[0;34m(.0)\u001b[0m\n\u001b[1;32m    261\u001b[0m         \u001b[0;32mwith\u001b[0m \u001b[0mparallel_backend\u001b[0m\u001b[0;34m(\u001b[0m\u001b[0mself\u001b[0m\u001b[0;34m.\u001b[0m\u001b[0m_backend\u001b[0m\u001b[0;34m,\u001b[0m \u001b[0mn_jobs\u001b[0m\u001b[0;34m=\u001b[0m\u001b[0mself\u001b[0m\u001b[0;34m.\u001b[0m\u001b[0m_n_jobs\u001b[0m\u001b[0;34m)\u001b[0m\u001b[0;34m:\u001b[0m\u001b[0;34m\u001b[0m\u001b[0;34m\u001b[0m\u001b[0m\n\u001b[1;32m    262\u001b[0m             return [func(*args, **kwargs)\n\u001b[0;32m--> 263\u001b[0;31m                     for func, args, kwargs in self.items]\n\u001b[0m\u001b[1;32m    264\u001b[0m \u001b[0;34m\u001b[0m\u001b[0m\n\u001b[1;32m    265\u001b[0m     \u001b[0;32mdef\u001b[0m \u001b[0m__reduce__\u001b[0m\u001b[0;34m(\u001b[0m\u001b[0mself\u001b[0m\u001b[0;34m)\u001b[0m\u001b[0;34m:\u001b[0m\u001b[0;34m\u001b[0m\u001b[0;34m\u001b[0m\u001b[0m\n",
            "\u001b[0;32m/usr/local/lib/python3.7/dist-packages/sklearn/utils/fixes.py\u001b[0m in \u001b[0;36m__call__\u001b[0;34m(self, *args, **kwargs)\u001b[0m\n\u001b[1;32m    214\u001b[0m     \u001b[0;32mdef\u001b[0m \u001b[0m__call__\u001b[0m\u001b[0;34m(\u001b[0m\u001b[0mself\u001b[0m\u001b[0;34m,\u001b[0m \u001b[0;34m*\u001b[0m\u001b[0margs\u001b[0m\u001b[0;34m,\u001b[0m \u001b[0;34m**\u001b[0m\u001b[0mkwargs\u001b[0m\u001b[0;34m)\u001b[0m\u001b[0;34m:\u001b[0m\u001b[0;34m\u001b[0m\u001b[0;34m\u001b[0m\u001b[0m\n\u001b[1;32m    215\u001b[0m         \u001b[0;32mwith\u001b[0m \u001b[0mconfig_context\u001b[0m\u001b[0;34m(\u001b[0m\u001b[0;34m**\u001b[0m\u001b[0mself\u001b[0m\u001b[0;34m.\u001b[0m\u001b[0mconfig\u001b[0m\u001b[0;34m)\u001b[0m\u001b[0;34m:\u001b[0m\u001b[0;34m\u001b[0m\u001b[0;34m\u001b[0m\u001b[0m\n\u001b[0;32m--> 216\u001b[0;31m             \u001b[0;32mreturn\u001b[0m \u001b[0mself\u001b[0m\u001b[0;34m.\u001b[0m\u001b[0mfunction\u001b[0m\u001b[0;34m(\u001b[0m\u001b[0;34m*\u001b[0m\u001b[0margs\u001b[0m\u001b[0;34m,\u001b[0m \u001b[0;34m**\u001b[0m\u001b[0mkwargs\u001b[0m\u001b[0;34m)\u001b[0m\u001b[0;34m\u001b[0m\u001b[0;34m\u001b[0m\u001b[0m\n\u001b[0m\u001b[1;32m    217\u001b[0m \u001b[0;34m\u001b[0m\u001b[0m\n\u001b[1;32m    218\u001b[0m \u001b[0;34m\u001b[0m\u001b[0m\n",
            "\u001b[0;32m/usr/local/lib/python3.7/dist-packages/sklearn/ensemble/_forest.py\u001b[0m in \u001b[0;36m_parallel_build_trees\u001b[0;34m(tree, forest, X, y, sample_weight, tree_idx, n_trees, verbose, class_weight, n_samples_bootstrap)\u001b[0m\n\u001b[1;32m    183\u001b[0m             \u001b[0mcurr_sample_weight\u001b[0m \u001b[0;34m*=\u001b[0m \u001b[0mcompute_sample_weight\u001b[0m\u001b[0;34m(\u001b[0m\u001b[0;34m\"balanced\"\u001b[0m\u001b[0;34m,\u001b[0m \u001b[0my\u001b[0m\u001b[0;34m,\u001b[0m \u001b[0mindices\u001b[0m\u001b[0;34m=\u001b[0m\u001b[0mindices\u001b[0m\u001b[0;34m)\u001b[0m\u001b[0;34m\u001b[0m\u001b[0;34m\u001b[0m\u001b[0m\n\u001b[1;32m    184\u001b[0m \u001b[0;34m\u001b[0m\u001b[0m\n\u001b[0;32m--> 185\u001b[0;31m         \u001b[0mtree\u001b[0m\u001b[0;34m.\u001b[0m\u001b[0mfit\u001b[0m\u001b[0;34m(\u001b[0m\u001b[0mX\u001b[0m\u001b[0;34m,\u001b[0m \u001b[0my\u001b[0m\u001b[0;34m,\u001b[0m \u001b[0msample_weight\u001b[0m\u001b[0;34m=\u001b[0m\u001b[0mcurr_sample_weight\u001b[0m\u001b[0;34m,\u001b[0m \u001b[0mcheck_input\u001b[0m\u001b[0;34m=\u001b[0m\u001b[0;32mFalse\u001b[0m\u001b[0;34m)\u001b[0m\u001b[0;34m\u001b[0m\u001b[0;34m\u001b[0m\u001b[0m\n\u001b[0m\u001b[1;32m    186\u001b[0m     \u001b[0;32melse\u001b[0m\u001b[0;34m:\u001b[0m\u001b[0;34m\u001b[0m\u001b[0;34m\u001b[0m\u001b[0m\n\u001b[1;32m    187\u001b[0m         \u001b[0mtree\u001b[0m\u001b[0;34m.\u001b[0m\u001b[0mfit\u001b[0m\u001b[0;34m(\u001b[0m\u001b[0mX\u001b[0m\u001b[0;34m,\u001b[0m \u001b[0my\u001b[0m\u001b[0;34m,\u001b[0m \u001b[0msample_weight\u001b[0m\u001b[0;34m=\u001b[0m\u001b[0msample_weight\u001b[0m\u001b[0;34m,\u001b[0m \u001b[0mcheck_input\u001b[0m\u001b[0;34m=\u001b[0m\u001b[0;32mFalse\u001b[0m\u001b[0;34m)\u001b[0m\u001b[0;34m\u001b[0m\u001b[0;34m\u001b[0m\u001b[0m\n",
            "\u001b[0;32m/usr/local/lib/python3.7/dist-packages/sklearn/tree/_classes.py\u001b[0m in \u001b[0;36mfit\u001b[0;34m(self, X, y, sample_weight, check_input, X_idx_sorted)\u001b[0m\n\u001b[1;32m   1318\u001b[0m             \u001b[0msample_weight\u001b[0m\u001b[0;34m=\u001b[0m\u001b[0msample_weight\u001b[0m\u001b[0;34m,\u001b[0m\u001b[0;34m\u001b[0m\u001b[0;34m\u001b[0m\u001b[0m\n\u001b[1;32m   1319\u001b[0m             \u001b[0mcheck_input\u001b[0m\u001b[0;34m=\u001b[0m\u001b[0mcheck_input\u001b[0m\u001b[0;34m,\u001b[0m\u001b[0;34m\u001b[0m\u001b[0;34m\u001b[0m\u001b[0m\n\u001b[0;32m-> 1320\u001b[0;31m             \u001b[0mX_idx_sorted\u001b[0m\u001b[0;34m=\u001b[0m\u001b[0mX_idx_sorted\u001b[0m\u001b[0;34m,\u001b[0m\u001b[0;34m\u001b[0m\u001b[0;34m\u001b[0m\u001b[0m\n\u001b[0m\u001b[1;32m   1321\u001b[0m         )\n\u001b[1;32m   1322\u001b[0m         \u001b[0;32mreturn\u001b[0m \u001b[0mself\u001b[0m\u001b[0;34m\u001b[0m\u001b[0;34m\u001b[0m\u001b[0m\n",
            "\u001b[0;32m/usr/local/lib/python3.7/dist-packages/sklearn/tree/_classes.py\u001b[0m in \u001b[0;36mfit\u001b[0;34m(self, X, y, sample_weight, check_input, X_idx_sorted)\u001b[0m\n\u001b[1;32m    418\u001b[0m             )\n\u001b[1;32m    419\u001b[0m \u001b[0;34m\u001b[0m\u001b[0m\n\u001b[0;32m--> 420\u001b[0;31m         \u001b[0mbuilder\u001b[0m\u001b[0;34m.\u001b[0m\u001b[0mbuild\u001b[0m\u001b[0;34m(\u001b[0m\u001b[0mself\u001b[0m\u001b[0;34m.\u001b[0m\u001b[0mtree_\u001b[0m\u001b[0;34m,\u001b[0m \u001b[0mX\u001b[0m\u001b[0;34m,\u001b[0m \u001b[0my\u001b[0m\u001b[0;34m,\u001b[0m \u001b[0msample_weight\u001b[0m\u001b[0;34m)\u001b[0m\u001b[0;34m\u001b[0m\u001b[0;34m\u001b[0m\u001b[0m\n\u001b[0m\u001b[1;32m    421\u001b[0m \u001b[0;34m\u001b[0m\u001b[0m\n\u001b[1;32m    422\u001b[0m         \u001b[0;32mif\u001b[0m \u001b[0mself\u001b[0m\u001b[0;34m.\u001b[0m\u001b[0mn_outputs_\u001b[0m \u001b[0;34m==\u001b[0m \u001b[0;36m1\u001b[0m \u001b[0;32mand\u001b[0m \u001b[0mis_classifier\u001b[0m\u001b[0;34m(\u001b[0m\u001b[0mself\u001b[0m\u001b[0;34m)\u001b[0m\u001b[0;34m:\u001b[0m\u001b[0;34m\u001b[0m\u001b[0;34m\u001b[0m\u001b[0m\n",
            "\u001b[0;31mKeyboardInterrupt\u001b[0m: "
          ]
        }
      ]
    },
    {
      "cell_type": "code",
      "source": [
        ""
      ],
      "metadata": {
        "id": "x9jkvOfKzVMR"
      },
      "execution_count": null,
      "outputs": []
    }
  ]
}